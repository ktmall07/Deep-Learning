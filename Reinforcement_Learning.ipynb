{
  "nbformat": 4,
  "nbformat_minor": 0,
  "metadata": {
    "accelerator": "GPU",
    "colab": {
      "name": "lab10.ipynb",
      "provenance": [],
      "collapsed_sections": []
    },
    "kernelspec": {
      "display_name": "Python 3",
      "language": "python",
      "name": "python3"
    },
    "language_info": {
      "codemirror_mode": {
        "name": "ipython",
        "version": 3
      },
      "file_extension": ".py",
      "mimetype": "text/x-python",
      "name": "python",
      "nbconvert_exporter": "python",
      "pygments_lexer": "ipython3",
      "version": "3.7.4"
    }
  },
  "cells": [
    {
      "cell_type": "markdown",
      "metadata": {
        "id": "w-jFCArcTC-B"
      },
      "source": [
        "<a \n",
        "href=\"https://colab.research.google.com/github/wingated/cs474_labs_f2019/blob/master/DL_Lab9.ipynb\"\n",
        "  target=\"_parent\">\n",
        "  <img\n",
        "    src=\"https://colab.research.google.com/assets/colab-badge.svg\"\n",
        "    alt=\"Open In Colab\"/>\n",
        "</a>"
      ]
    },
    {
      "cell_type": "markdown",
      "metadata": {
        "id": "sl7hEuB3J4k3"
      },
      "source": [
        "# Lab 10: Deep Reinforcement Learning\n",
        "\n",
        "## Objective\n",
        "\n",
        "- Build DQN and PPO Deep RL algorithms\n",
        "- Learn the difference between Q Learning and Policy Gradient techniques\n",
        "\n",
        "## Deliverable\n",
        "\n",
        "For this lab you will submit an ipython notebook via learning suite. This lab gives you a lot of code, and you should only need to modify two of the cells of this notebook. Feel free to download and modify this notebook or create your own. The below code is given for your convinience. You can modify any of the given code if you wish.\n",
        "\n",
        "## Tips\n",
        "\n",
        "Deep reinforcement learning is difficult. We provide hyperparameters, visualizations, and code for gathering experience, but require you to code up algorithms for training your networks. \n",
        "\n",
        "- Your networks should be able to demonstrate learning on cartpole within a minute of wall time.\n",
        "\n",
        "- Understand what your the starter code is doing. This will help you with the *TODO* sections. The main code block is similar for the two algorithms with some small yet important differences.\n",
        "\n",
        "- We provide hyperparameters for you to start with. Feel free to experiment with different values, but these worked for us.\n",
        "\n",
        "- **Print dtypes and shapes** throughout your code to make sure your tensors look the way you expect.\n",
        "\n",
        "- The DQN algorithm is significantly more unstable than PPO. Even with a correct implementation it may fail to learn every 1/10 times.\n",
        "\n",
        "- Unfortunately visualizing your agent acting in the environment is non-trivial in Colab. You can visualize your agent by running this code locally and uncommenting the `env.render()` line.\n",
        "\n",
        "## Grading\n",
        "\n",
        "- 40% Part 1: DQN *TODO* methods\n",
        "- 40% Part 2: PPO *TODO* methods\n",
        "- 20% Cartpole learning curves\n",
        "\n",
        "\n",
        "### Cartpole\n",
        "\n",
        "Cartpole is a simple environment to get your agent up and running. It has a continuous state space of 4 dimensions and a discrete action space of 2. The agent is given a reward of 1 for each timestep it remains standing. Your agent should be able to reach close to 200 cumulative reward for an episode after a minute or two of training. The below graphs show example results for dqn (left) and ppo (right).\n",
        "\n",
        "![alt text](https://drive.google.com/uc?export=view&id=1Bpz1jOPMF1zJMW6XBJJ44sJ-RmO_q6_U)\n",
        "![alt text](https://drive.google.com/uc?export=view&id=1M1yygXhLKDL8qfRXn7fh_K-zq7-pQRhY)\n",
        "\n",
        "### TODO\n",
        "\n",
        "- Train DQN and PPO on cartpole\n",
        "- Display learning curves with average episodic reward per epoch"
      ]
    },
    {
      "cell_type": "markdown",
      "metadata": {
        "id": "gVWokqnVab6O"
      },
      "source": [
        "# Starter Code"
      ]
    },
    {
      "cell_type": "markdown",
      "metadata": {
        "id": "WhaPOG6xt0yn"
      },
      "source": [
        "## Init"
      ]
    },
    {
      "cell_type": "code",
      "metadata": {
        "id": "EyykNyRM1Tf3",
        "colab": {
          "base_uri": "https://localhost:8080/"
        },
        "outputId": "dacf5e4b-fdb5-4c96-a76e-f6ea8fc6ac47"
      },
      "source": [
        "! pip3 install gym\n",
        "! pip3 install torch\n",
        "####################\n",
        "! pip install gym pyvirtualdisplay\n",
        "! apt-get install -y xvfb python-opengl ffmpeg\n",
        "####################"
      ],
      "execution_count": 2,
      "outputs": [
        {
          "output_type": "stream",
          "name": "stdout",
          "text": [
            "Requirement already satisfied: gym in /usr/local/lib/python3.7/dist-packages (0.17.3)\n",
            "Requirement already satisfied: numpy>=1.10.4 in /usr/local/lib/python3.7/dist-packages (from gym) (1.21.5)\n",
            "Requirement already satisfied: pyglet<=1.5.0,>=1.4.0 in /usr/local/lib/python3.7/dist-packages (from gym) (1.5.0)\n",
            "Requirement already satisfied: cloudpickle<1.7.0,>=1.2.0 in /usr/local/lib/python3.7/dist-packages (from gym) (1.3.0)\n",
            "Requirement already satisfied: scipy in /usr/local/lib/python3.7/dist-packages (from gym) (1.4.1)\n",
            "Requirement already satisfied: future in /usr/local/lib/python3.7/dist-packages (from pyglet<=1.5.0,>=1.4.0->gym) (0.16.0)\n",
            "Requirement already satisfied: torch in /usr/local/lib/python3.7/dist-packages (1.10.0+cu111)\n",
            "Requirement already satisfied: typing-extensions in /usr/local/lib/python3.7/dist-packages (from torch) (3.10.0.2)\n",
            "Requirement already satisfied: gym in /usr/local/lib/python3.7/dist-packages (0.17.3)\n",
            "Collecting pyvirtualdisplay\n",
            "  Downloading PyVirtualDisplay-3.0-py3-none-any.whl (15 kB)\n",
            "Requirement already satisfied: pyglet<=1.5.0,>=1.4.0 in /usr/local/lib/python3.7/dist-packages (from gym) (1.5.0)\n",
            "Requirement already satisfied: cloudpickle<1.7.0,>=1.2.0 in /usr/local/lib/python3.7/dist-packages (from gym) (1.3.0)\n",
            "Requirement already satisfied: scipy in /usr/local/lib/python3.7/dist-packages (from gym) (1.4.1)\n",
            "Requirement already satisfied: numpy>=1.10.4 in /usr/local/lib/python3.7/dist-packages (from gym) (1.21.5)\n",
            "Requirement already satisfied: future in /usr/local/lib/python3.7/dist-packages (from pyglet<=1.5.0,>=1.4.0->gym) (0.16.0)\n",
            "Installing collected packages: pyvirtualdisplay\n",
            "Successfully installed pyvirtualdisplay-3.0\n",
            "Reading package lists... Done\n",
            "Building dependency tree       \n",
            "Reading state information... Done\n",
            "ffmpeg is already the newest version (7:3.4.8-0ubuntu0.2).\n",
            "Suggested packages:\n",
            "  libgle3\n",
            "The following NEW packages will be installed:\n",
            "  python-opengl xvfb\n",
            "0 upgraded, 2 newly installed, 0 to remove and 39 not upgraded.\n",
            "Need to get 1,280 kB of archives.\n",
            "After this operation, 7,687 kB of additional disk space will be used.\n",
            "Get:1 http://archive.ubuntu.com/ubuntu bionic/universe amd64 python-opengl all 3.1.0+dfsg-1 [496 kB]\n",
            "Get:2 http://archive.ubuntu.com/ubuntu bionic-updates/universe amd64 xvfb amd64 2:1.19.6-1ubuntu4.10 [784 kB]\n",
            "Fetched 1,280 kB in 1s (1,593 kB/s)\n",
            "Selecting previously unselected package python-opengl.\n",
            "(Reading database ... 156210 files and directories currently installed.)\n",
            "Preparing to unpack .../python-opengl_3.1.0+dfsg-1_all.deb ...\n",
            "Unpacking python-opengl (3.1.0+dfsg-1) ...\n",
            "Selecting previously unselected package xvfb.\n",
            "Preparing to unpack .../xvfb_2%3a1.19.6-1ubuntu4.10_amd64.deb ...\n",
            "Unpacking xvfb (2:1.19.6-1ubuntu4.10) ...\n",
            "Setting up python-opengl (3.1.0+dfsg-1) ...\n",
            "Setting up xvfb (2:1.19.6-1ubuntu4.10) ...\n",
            "Processing triggers for man-db (2.8.3-2ubuntu0.1) ...\n"
          ]
        }
      ]
    },
    {
      "cell_type": "code",
      "metadata": {
        "id": "Rim8iocC1Vva"
      },
      "source": [
        "import gym\n",
        "import torch\n",
        "import torch.nn as nn\n",
        "import torch.nn.functional as F\n",
        "from itertools import chain\n",
        "import matplotlib.pyplot as plt\n",
        "from tqdm import tqdm\n",
        "import random\n",
        "from torch.utils.data import Dataset, DataLoader\n",
        "import numpy as np\n",
        "\n",
        "####################\n",
        "from gym import logger as gymlogger\n",
        "from gym.wrappers import Monitor\n",
        "gymlogger.set_level(40) #error only\n",
        "\n",
        "import glob\n",
        "import io\n",
        "import base64\n",
        "from IPython.display import HTML\n",
        "from IPython import display as ipythondisplay\n",
        "####################"
      ],
      "execution_count": 3,
      "outputs": []
    },
    {
      "cell_type": "code",
      "metadata": {
        "id": "l1f8lZp19Lwj",
        "colab": {
          "base_uri": "https://localhost:8080/"
        },
        "outputId": "4425eab7-2b70-47ee-d716-3dbdf654bcf7"
      },
      "source": [
        "######################\n",
        "from pyvirtualdisplay import Display\n",
        "display = Display(visible=0, size=(1400,900))\n",
        "display.start()\n",
        "######################"
      ],
      "execution_count": 4,
      "outputs": [
        {
          "output_type": "execute_result",
          "data": {
            "text/plain": [
              "<pyvirtualdisplay.display.Display at 0x7f75d9fce5d0>"
            ]
          },
          "metadata": {},
          "execution_count": 4
        }
      ]
    },
    {
      "cell_type": "code",
      "metadata": {
        "id": "_TI_5c0l9Ojv"
      },
      "source": [
        "######################\n",
        "def show_video():\n",
        "  mp4list = glob.glob('video/*.mp4')\n",
        "  if len(mp4list) > 0:\n",
        "    mp4 = mp4list[0]\n",
        "    video = io.open(mp4, 'r+b').read()\n",
        "    encoded = base64.b64encode(video)\n",
        "    ipythondisplay.display(HTML(data='''<video alt=\"test\" autoplay \n",
        "                loop controls style=\"height: 400px;\">\n",
        "                <source src=\"data:video/mp4;base64,{0}\" type=\"video/mp4\" />\n",
        "             </video>'''.format(encoded.decode('ascii'))))\n",
        "  else: \n",
        "    print(\"Could not find video\")\n",
        "\n",
        "def wrap_env(env):\n",
        "  env = Monitor(env, './video', force=True)\n",
        "  return env\n",
        "######################"
      ],
      "execution_count": 5,
      "outputs": []
    },
    {
      "cell_type": "markdown",
      "metadata": {
        "id": "mV282uYJ2aSw"
      },
      "source": [
        "## DQN"
      ]
    },
    {
      "cell_type": "markdown",
      "metadata": {
        "id": "Qi_aDdTg2btp"
      },
      "source": [
        "## Part 1\n",
        "\n",
        "\n",
        "Deep Q-Network (https://www.cs.toronto.edu/~vmnih/docs/dqn.pdf) is a Q-learning algorithm that learns values for state-action pairs.\n",
        "\n",
        "Actions are sampled according to an $\\epsilon-greedy$ policy to help with exploration of the state space. Every time an action is sampled, the agent chooses a random action with $\\epsilon$ probability. Otherwise, the agent selects the action with the highest Q-value for a state. $\\epsilon$ decays over time according to $\\epsilon \\gets \\epsilon * epsilon\\_decay$.\n",
        "\n",
        "Tuples of state, action, reward, next_state, and terminal $(s,a,r,s',d)$ are collected during training. Every $learn\\_frequency$ steps $sample\\_size$ tuples are sampled and made into 5 tensors tensors of states, actions, rewarads, next_states, and terminals.\n",
        "\n",
        "The loss for a batch of size N is given below.\n",
        "\n",
        "$Loss=\\frac{1}{N}\\sum \\bigg(Q(s,a) - (r + \\gamma \\underset{a'\\sim A}{max} \\hat{Q}(s',a')(1-d))\\bigg)^2 $\n",
        "\n",
        "Loss is calculated and used to update the Q-Network. The target network $\\hat{Q}$ begins as a copy of the Q network but is not updated by the optimizer. Every $target\\_update$ steps, the target network is updated with the parameters of the Q-Network. This process is a type of bootstrapping.\n",
        "\n",
        "### TODO\n",
        "\n",
        "- Implement get action method with e-greedy policy\n",
        "- Implement sample batch method\n",
        "- Implement DQN learning algorithm\n",
        "\n"
      ]
    },
    {
      "cell_type": "code",
      "metadata": {
        "id": "_mBUvXkT2dHy"
      },
      "source": [
        "def get_action_dqn(network, state, epsilon, epsilon_decay):\n",
        "  \"\"\"Select action according to e-greedy policy and decay epsilon\n",
        "\n",
        "    Args:\n",
        "        network (QNetwork): Q-Network\n",
        "        state (np-array): current state, size (state_size)\n",
        "        epsilon (float): probability of choosing a random action\n",
        "        epsilon_decay (float): amount by which to decay epsilon\n",
        "\n",
        "    Returns:\n",
        "        action (int): chosen action [0, action_size)\n",
        "        epsilon (float): decayed epsilon\n",
        "  \"\"\"\n",
        "  decayed_epsilon = epsilon * epsilon_decay\n",
        "\n",
        "  rand = np.random.rand()\n",
        "  if rand < epsilon:\n",
        "    return np.random.randint(2), decayed_epsilon\n",
        "  \n",
        "  input = torch.tensor(state, dtype=torch.float).cuda()\n",
        "\n",
        "  action = network(input)\n",
        "\n",
        "  return torch.argmax(action).item(), decayed_epsilon\n",
        "\n",
        "\n",
        "\n",
        "def prepare_batch(memory, batch_size):\n",
        "  \"\"\"Randomly sample batch from memory\n",
        "     Prepare cuda tensors\n",
        "\n",
        "    Args:\n",
        "        memory (list): state, action, next_state, reward, done tuples\n",
        "        batch_size (int): amount of memory to sample into a batch\n",
        "\n",
        "    Returns:\n",
        "        state (tensor): float cuda tensor of size (batch_size x state_size)\n",
        "        action (tensor): long tensor of size (batch_size)\n",
        "        next_state (tensor): float cuda tensor of size (batch_size x state_size)\n",
        "        reward (tensor): float cuda tensor of size (batch_size)\n",
        "        done (tensor): float cuda tensor of size (batch_size)\n",
        "  \"\"\"\n",
        "\n",
        "  sample = random.sample(memory, batch_size)\n",
        "\n",
        "  states= []\n",
        "  actions= []\n",
        "  next_states= []\n",
        "  rewards= []\n",
        "  complete= []\n",
        "\n",
        "  for s, a, s_prime, r, d in sample:\n",
        "    states.append(s)\n",
        "    actions.append(a)\n",
        "    next_states.append(s_prime)\n",
        "    rewards.append(r)\n",
        "    complete.append(d)\n",
        "  \n",
        "  return torch.tensor(states).cuda(), torch.tensor(actions).cuda(), torch.tensor(next_states).cuda(), torch.tensor(rewards).cuda(), torch.tensor(complete).cuda()\n",
        "\n",
        "\n",
        "  \n",
        "def learn_dqn(batch, optim, q_network, target_network, gamma, global_step, target_update):\n",
        "  \"\"\"Update Q-Network according to DQN Loss function\n",
        "     Update Target Network every target_update global steps\n",
        "\n",
        "    Args:\n",
        "        batch (tuple): tuple of state, action, next_state, reward, and done tensors\n",
        "        optim (Adam): Q-Network optimizer\n",
        "        q_network (QNetwork): Q-Network\n",
        "        target_network (QNetwork): Target Q-Network\n",
        "        gamma (float): discount factor\n",
        "        global_step (int): total steps taken in environment\n",
        "        target_update (int): frequency of target network update\n",
        "  \"\"\"\n",
        "  optim.zero_grad()\n",
        "\n",
        "  state, action, next_state, reward, done = batch\n",
        "\n",
        "  q_temp = q_network(state.float())\n",
        "\n",
        "  l1 = reward + gamma * torch.max(target_network(next_state.float()).cuda(), dim=1).values * (1 - done.int())\n",
        "  l2 = torch.gather(q_temp, 1, action.view(-1,1)).squeeze()\n",
        "\n",
        "  total_loss = torch.sum(((l2 - (l1))**2))\n",
        "\n",
        "  total_loss.backward()\n",
        "\n",
        "  optim.step()\n",
        "\n",
        "  if global_step % target_update == 0:\n",
        "    target_network.load_state_dict(q_network.state_dict())\n",
        "\n"
      ],
      "execution_count": 6,
      "outputs": []
    },
    {
      "cell_type": "markdown",
      "metadata": {
        "id": "vGQgiY0WvImB"
      },
      "source": [
        "### Modules"
      ]
    },
    {
      "cell_type": "code",
      "metadata": {
        "id": "1vMhl-oevIBo"
      },
      "source": [
        "# Q-Value Network\n",
        "class QNetwork(nn.Module):\n",
        "  def __init__(self, state_size, action_size):\n",
        "    super().__init__()\n",
        "    hidden_size = 8\n",
        "    \n",
        "    self.net = nn.Sequential(nn.Linear(state_size, hidden_size),\n",
        "                             nn.ReLU(),\n",
        "                             nn.Linear(hidden_size, hidden_size),\n",
        "                             nn.ReLU(),\n",
        "                             nn.Linear(hidden_size, hidden_size),\n",
        "                             nn.ReLU(),\n",
        "                             nn.Linear(hidden_size, action_size))  \n",
        "    \n",
        "  def forward(self, x):\n",
        "    \"\"\"Estimate q-values given state\n",
        "\n",
        "      Args:\n",
        "          state (tensor): current state, size (batch x state_size)\n",
        "\n",
        "      Returns:\n",
        "          q-values (tensor): estimated q-values, size (batch x action_size)\n",
        "    \"\"\"\n",
        "    return self.net(x)"
      ],
      "execution_count": 7,
      "outputs": []
    },
    {
      "cell_type": "markdown",
      "metadata": {
        "id": "yCafVI552dgg"
      },
      "source": [
        "### Main"
      ]
    },
    {
      "cell_type": "code",
      "metadata": {
        "id": "8Sy_r9Wr2eg8",
        "colab": {
          "base_uri": "https://localhost:8080/",
          "height": 459
        },
        "outputId": "b792d8d6-87d8-43d9-ec8c-64883c8dfd0d"
      },
      "source": [
        "def dqn_main():\n",
        "  # Hyper parameters\n",
        "  lr = 1e-3\n",
        "  epochs = 500\n",
        "  start_training = 1000\n",
        "  gamma = 0.99\n",
        "  batch_size = 32\n",
        "  epsilon = 1\n",
        "  epsilon_decay = .9999\n",
        "  target_update = 1000\n",
        "  learn_frequency = 2\n",
        "\n",
        "  # Init environment\n",
        "  state_size = 4\n",
        "  action_size = 2\n",
        "  env = gym.make('CartPole-v1', )\n",
        "\n",
        "  # Init networks\n",
        "  q_network = QNetwork(state_size, action_size).cuda()\n",
        "  target_network = QNetwork(state_size, action_size).cuda()\n",
        "  target_network.load_state_dict(q_network.state_dict())\n",
        "\n",
        "  # Init optimizer\n",
        "  optim = torch.optim.Adam(q_network.parameters(), lr=lr)\n",
        "\n",
        "  # Init replay buffer\n",
        "  memory = []\n",
        "\n",
        "  # Begin main loop\n",
        "  results_dqn = []\n",
        "  global_step = 0\n",
        "  loop = tqdm(total=epochs, position=0, leave=False)\n",
        "  for epoch in range(epochs):\n",
        "    ######################\n",
        "    last_epoch = (epoch+1 == epochs)\n",
        "    # Record the last epoch, not the previous epochs\n",
        "    if last_epoch:\n",
        "      env = wrap_env(env)\n",
        "    ######################\n",
        "\n",
        "    # Reset environment\n",
        "    state = env.reset()\n",
        "    done = False\n",
        "    cum_reward = 0  # Track cumulative reward per episode\n",
        "\n",
        "    # Begin episode\n",
        "    while not done and cum_reward < 200:  # End after 200 steps \n",
        "      # Select e-greedy action\n",
        "      action, epsilon = get_action_dqn(q_network, state, epsilon, epsilon_decay)\n",
        "\n",
        "      # Take step\n",
        "      next_state, reward, done, _ = env.step(action)\n",
        "      # env.render()\n",
        "\n",
        "      # Store step in replay buffer\n",
        "      memory.append((state, action, next_state, reward, done))\n",
        "\n",
        "      cum_reward += reward\n",
        "      global_step += 1  # Increment total steps\n",
        "      state = next_state  # Set current state\n",
        "\n",
        "      # If time to train\n",
        "      if global_step > start_training and global_step % learn_frequency == 0:\n",
        "\n",
        "        # Sample batch\n",
        "        batch = prepare_batch(memory, batch_size)\n",
        "        \n",
        "        # Train\n",
        "        learn_dqn(batch, optim, q_network, target_network, gamma, global_step, target_update)\n",
        "    ######################\n",
        "    env.close()\n",
        "    ######################\n",
        "    # Print results at end of episode\n",
        "    results_dqn.append(cum_reward)\n",
        "    loop.update(1)\n",
        "    loop.set_description('Episodes: {} Reward: {}'.format(epoch, cum_reward))\n",
        "  \n",
        "  return results_dqn\n",
        "\n",
        "results_dqn = dqn_main()\n",
        "######################\n",
        "show_video()\n",
        "######################"
      ],
      "execution_count": 8,
      "outputs": [
        {
          "output_type": "stream",
          "name": "stderr",
          "text": [
            "Episodes: 36 Reward: 16.0:   7%|▋         | 37/500 [00:00<00:04, 109.35it/s]/usr/local/lib/python3.7/dist-packages/ipykernel_launcher.py:59: UserWarning: Creating a tensor from a list of numpy.ndarrays is extremely slow. Please consider converting the list to a single numpy.ndarray with numpy.array() before converting to a tensor. (Triggered internally at  ../torch/csrc/utils/tensor_new.cpp:201.)\n"
          ]
        },
        {
          "output_type": "display_data",
          "data": {
            "text/plain": [
              "<IPython.core.display.HTML object>"
            ],
            "text/html": [
              "<video alt=\"test\" autoplay \n",
              "                loop controls style=\"height: 400px;\">\n",
              "                <source src=\"data:video/mp4;base64,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\" type=\"video/mp4\" />\n",
              "             </video>"
            ]
          },
          "metadata": {}
        }
      ]
    },
    {
      "cell_type": "code",
      "metadata": {
        "id": "ZWYwytCDC3aw",
        "colab": {
          "base_uri": "https://localhost:8080/",
          "height": 265
        },
        "outputId": "5798faf6-34c3-437c-bb4b-7406bfcb1153"
      },
      "source": [
        "plt.plot(results_dqn)\n",
        "plt.show()"
      ],
      "execution_count": 9,
      "outputs": [
        {
          "output_type": "display_data",
          "data": {
            "text/plain": [
              "<Figure size 432x288 with 1 Axes>"
            ],
            "image/png": "[encoded data removed]"
          },
          "metadata": {
            "needs_background": "light"
          }
        }
      ]
    },
    {
      "cell_type": "markdown",
      "metadata": {
        "id": "qN9yy5EWVNz0"
      },
      "source": [
        "## PPO"
      ]
    },
    {
      "cell_type": "markdown",
      "metadata": {
        "id": "XvRUJUew0yN_"
      },
      "source": [
        "## Part 2\n",
        "\n",
        "Proximal Policy Optimization (https://arxiv.org/pdf/1707.06347.pdf) is a type of policy gradient method. Instead of calculating Q-values, we train a network $\\pi$ to optimize the probability of taking good actions directly, using states as inputs and actions as outputs. PPO also uses a value network $V$ that estimates state values in order to estimate the advantage $\\hat{A}$. \n",
        "\n",
        "Tuples of state, action distribution, action taken, and return $(s,\\pi(s), a,\\hat{R})$ are gathered for several rollouts. After training on this experience, these tuples are discarded and new experience is gathered.\n",
        "\n",
        "Loss for the value network and the policy network are calculated according to the following formula:\n",
        "\n",
        "$Loss=ValueLoss+PolicyLoss$\n",
        "\n",
        "$ValueLoss=\\frac{1}{N}\\sum \\bigg(\\hat{R} - V(s) \\bigg)^2 $\n",
        "\n",
        "$PolicyLoss=-\\frac{1}{N}\\sum \\min\\bigg( \\frac{\\pi'(a|s)}{\\pi(a|s)} \\hat{A}, clip(\\frac{\\pi'(a|s)}{\\pi(a|s)},1-\\epsilon,1+\\epsilon) \\hat{A} \\bigg) $\n",
        "\n",
        "$\\hat{R}_t = \\sum_{i=t}^H \\gamma^{i-1}r_i$\n",
        "\n",
        "$\\hat{A}_t=\\hat{R}_t-V(s_t)$\n",
        "\n",
        "Here, $\\pi'(a|s)$ is the probability of taking an action given a state under the current policy and $\\pi(a|s)$ is the probability of taking an action given a state under the policy used to gather data. In the loss function, $a$ is the action your agent actually took and is sampled from memory. \n",
        "\n",
        "Additionally, the $clip$ function clips the value of the first argument according to the lower and upper bounds in the second and third arguments resectively.\n",
        "\n",
        "Another important note: Your the calculation of your advantage $\\hat{A}$ should not permit gradient flow from your policy loss calculation. In other words, make sure to call `.detach()` on your advantage.\n",
        "\n",
        "### TODO\n",
        "\n",
        "- Implement calculate return method\n",
        "- Implement get action method\n",
        "- Implement PPO learning algorithm"
      ]
    },
    {
      "cell_type": "code",
      "metadata": {
        "id": "zsm1pILHVcEp"
      },
      "source": [
        "def calculate_return(memory, rollout, gamma):\n",
        "  \"\"\"Return memory with calculated return in experience tuple\n",
        "\n",
        "    Args:\n",
        "        memory (list): (state, action, action_dist, return) tuples\n",
        "        rollout (list): (state, action, action_dist, reward) tuples from last rollout\n",
        "        gamma (float): discount factor\n",
        "\n",
        "    Returns:\n",
        "        list: memory updated with (state, action, action_dist, return) tuples from rollout\n",
        "  \"\"\"\n",
        "  ret = 0\n",
        "\n",
        "  for state, action, action_dist, reward in reversed(rollout):\n",
        "    ret = reward + ret *gamma\n",
        "\n",
        "    memory.append((state, action, action_dist, ret))\n",
        "  \n",
        "  return memory\n",
        "\n",
        "\n",
        "def get_action_ppo(network, state):\n",
        "  \"\"\"Sample action from the distribution obtained from the policy network\n",
        "\n",
        "    Args:\n",
        "        network (PolicyNetwork): Policy Network\n",
        "        state (np-array): current state, size (state_size)\n",
        "\n",
        "    Returns:\n",
        "        int: action sampled from output distribution of policy network\n",
        "        array: output distribution of policy network\n",
        "  \"\"\"\n",
        "  with torch.no_grad():\n",
        "\n",
        "    action_dist = network(torch.cuda.FloatTensor(state).to('cpu').unsqueeze(0))\n",
        "    detached_action_dist = action_dist.detach().numpy()[0]\n",
        "\n",
        "    action = np.argmax(np.random.multinomial(1, detached_action_dist))\n",
        "\n",
        "    return action, action_dist\n",
        "\n",
        "\n",
        "def learn_ppo(optim, policy, value, memory_dataloader, epsilon, policy_epochs):\n",
        "  \"\"\"Implement PPO policy and value network updates. Iterate over your entire \n",
        "     memory the number of times indicated by policy_epochs.    \n",
        "\n",
        "    Args:\n",
        "        optim (Adam): value and policy optimizer\n",
        "        policy (PolicyNetwork): Policy Network\n",
        "        value (ValueNetwork): Value Network\n",
        "        memory_dataloader (DataLoader): dataloader with (state, action, action_dist, return) tensors\n",
        "        epsilon (float): trust region\n",
        "        policy_epochs (int): number of times to iterate over all memory\n",
        "  \"\"\"\n",
        "  for i in range(policy_epochs):\n",
        "    for state, action, action_dist, ret in memory_dataloader:\n",
        "\n",
        "      optim.zero_grad()\n",
        "\n",
        "      state = state.float()\n",
        "\n",
        "      estimate = ret - value(state).squeeze(1)\n",
        "\n",
        "      temp = (estimate**2)\n",
        "      value_loss = temp.mean()\n",
        "\n",
        "      advantage = estimate\n",
        "      advantage = advantage.detach()\n",
        "\n",
        "      current_dist = policy(state)\n",
        "      prob = current_dist.squeeze(1)[range(current_dist.shape[0]), action]\n",
        "      prev = action_dist.squeeze(1)[range(action_dist.shape[0]), action]\n",
        "\n",
        "      first = (prob / prev) * advantage\n",
        "      second = torch.clamp((prob / prev), 1 - epsilon, 1 + epsilon) * advantage\n",
        "\n",
        "      policy_loss = -torch.mean(torch.min(first, second))\n",
        "\n",
        "      total_loss = policy_loss + value_loss\n",
        "      policy_loss.backward()\n",
        "\n",
        "      optim.step()\n",
        "\n",
        "\n",
        "  \n",
        "\n",
        "  "
      ],
      "execution_count": 18,
      "outputs": []
    },
    {
      "cell_type": "markdown",
      "metadata": {
        "id": "R6RXma_-vSGX"
      },
      "source": [
        "### Modules"
      ]
    },
    {
      "cell_type": "code",
      "metadata": {
        "id": "L8URnP8xvTTG"
      },
      "source": [
        "# Dataset that wraps memory for a dataloader\n",
        "class RLDataset(Dataset):\n",
        "  def __init__(self, data):\n",
        "    super().__init__()\n",
        "    self.data = []\n",
        "    for d in data:\n",
        "      self.data.append(d)\n",
        "  \n",
        "  def __getitem__(self, index):\n",
        "    return self.data[index]\n",
        " \n",
        "  def __len__(self):\n",
        "    return len(self.data)\n",
        "\n",
        "\n",
        "# Policy Network\n",
        "class PolicyNetwork(nn.Module):\n",
        "  def __init__(self, state_size, action_size):\n",
        "    super().__init__()\n",
        "    hidden_size = 8\n",
        "    \n",
        "    self.net = nn.Sequential(nn.Linear(state_size, hidden_size),\n",
        "                             nn.ReLU(),\n",
        "                             nn.Linear(hidden_size, hidden_size),\n",
        "                             nn.ReLU(),\n",
        "                             nn.Linear(hidden_size, hidden_size),\n",
        "                             nn.ReLU(),\n",
        "                             nn.Linear(hidden_size, action_size),\n",
        "                             nn.Softmax(dim=1))\n",
        "  \n",
        "  def forward(self, x):\n",
        "    \"\"\"Get policy from state\n",
        "\n",
        "      Args:\n",
        "          state (tensor): current state, size (batch x state_size)\n",
        "\n",
        "      Returns:\n",
        "          action_dist (tensor): probability distribution over actions (batch x action_size)\n",
        "    \"\"\"\n",
        "    return self.net(x)\n",
        "  \n",
        "\n",
        "# Value Network\n",
        "class ValueNetwork(nn.Module):\n",
        "  def __init__(self, state_size):\n",
        "    super().__init__()\n",
        "    hidden_size = 8\n",
        "  \n",
        "    self.net = nn.Sequential(nn.Linear(state_size, hidden_size),\n",
        "                             nn.ReLU(),\n",
        "                             nn.Linear(hidden_size, hidden_size),\n",
        "                             nn.ReLU(),\n",
        "                             nn.Linear(hidden_size, hidden_size),\n",
        "                             nn.ReLU(),\n",
        "                             nn.Linear(hidden_size, 1))\n",
        "    \n",
        "  def forward(self, x):\n",
        "    \"\"\"Estimate value given state\n",
        "\n",
        "      Args:\n",
        "          state (tensor): current state, size (batch x state_size)\n",
        "\n",
        "      Returns:\n",
        "          value (tensor): estimated value, size (batch)\n",
        "    \"\"\"\n",
        "    return self.net(x)"
      ],
      "execution_count": 11,
      "outputs": []
    },
    {
      "cell_type": "markdown",
      "metadata": {
        "id": "_aBD_R_e01Qb"
      },
      "source": [
        "### Main"
      ]
    },
    {
      "cell_type": "code",
      "metadata": {
        "id": "qX_Bv4M4MyY2",
        "colab": {
          "base_uri": "https://localhost:8080/",
          "height": 421
        },
        "outputId": "1d41fbae-75e8-4553-8e88-44abcb0450ca"
      },
      "source": [
        "def ppo_main():\n",
        "  # Hyper parameters\n",
        "  lr = 1e-3\n",
        "  epochs = 20\n",
        "  env_samples = 100\n",
        "  gamma = 0.9\n",
        "  batch_size = 256\n",
        "  epsilon = 0.2\n",
        "  policy_epochs = 5\n",
        "\n",
        "  # Init environment \n",
        "  state_size = 4\n",
        "  action_size = 2\n",
        "  env = gym.make('CartPole-v1')\n",
        "\n",
        "  # Init networks\n",
        "  policy_network = PolicyNetwork(state_size, action_size)\n",
        "  value_network = ValueNetwork(state_size)\n",
        "\n",
        "  # Init optimizer\n",
        "  optim = torch.optim.Adam(chain(policy_network.parameters(), value_network.parameters()), lr=lr)\n",
        "\n",
        "  # Start main loop\n",
        "  results_ppo = []\n",
        "  loop = tqdm(total=epochs, position=0, leave=False)\n",
        "  for epoch in range(epochs):\n",
        "    ######################\n",
        "    last_epoch = (epoch+1 == epochs)\n",
        "    # Record only last epoch\n",
        "    if last_epoch:\n",
        "      env = wrap_env(env)\n",
        "    ######################\n",
        "    \n",
        "    memory = []  # Reset memory every epoch\n",
        "    rewards = []  # Calculate average episodic reward per epoch\n",
        "\n",
        "    # Begin experience loop\n",
        "    for episode in range(env_samples):\n",
        "      \n",
        "      # Reset environment\n",
        "      state = env.reset()\n",
        "      done = False\n",
        "      rollout = []\n",
        "      cum_reward = 0  # Track cumulative reward\n",
        "\n",
        "      # Begin episode\n",
        "      while not done and cum_reward < 200:  # End after 200 steps   \n",
        "        # Get action\n",
        "        action, action_dist = get_action_ppo(policy_network, state)\n",
        "        \n",
        "        # Take step\n",
        "        next_state, reward, done, _ = env.step(action)\n",
        "        # env.render()\n",
        "\n",
        "        # Store step\n",
        "        rollout.append((state, action, action_dist, reward))\n",
        "\n",
        "        cum_reward += reward\n",
        "        state = next_state  # Set current state\n",
        "\n",
        "      # Calculate returns and add episode to memory\n",
        "      memory = calculate_return(memory, rollout, gamma)\n",
        "\n",
        "      rewards.append(cum_reward)\n",
        "      ######################\n",
        "      env.close()\n",
        "      ######################\n",
        "    # Train\n",
        "    dataset = RLDataset(memory)\n",
        "    loader = DataLoader(dataset, batch_size=batch_size, shuffle=True)\n",
        "    learn_ppo(optim, policy_network, value_network, loader, epsilon, policy_epochs)\n",
        "    \n",
        "    # Print results\n",
        "    results_ppo.extend(rewards)  # Store rewards for this epoch\n",
        "    loop.update(1)\n",
        "    loop.set_description(\"Epochs: {} Reward: {}\".format(epoch, results_ppo[-1]))\n",
        "\n",
        "  return results_ppo\n",
        "\n",
        "results_ppo = ppo_main()\n",
        "######################\n",
        "show_video()\n",
        "######################"
      ],
      "execution_count": 19,
      "outputs": [
        {
          "output_type": "stream",
          "name": "stderr",
          "text": [
            ""
          ]
        },
        {
          "output_type": "display_data",
          "data": {
            "text/plain": [
              "<IPython.core.display.HTML object>"
            ],
            "text/html": [
              "<video alt=\"test\" autoplay \n",
              "                loop controls style=\"height: 400px;\">\n",
              "                <source src=\"data:video/mp4;base64,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\" type=\"video/mp4\" />\n",
              "             </video>"
            ]
          },
          "metadata": {}
        }
      ]
    },
    {
      "cell_type": "code",
      "metadata": {
        "id": "pLXetCMpC1DE",
        "colab": {
          "base_uri": "https://localhost:8080/",
          "height": 265
        },
        "outputId": "d20b0060-60f9-4422-b280-b532c718e3ba"
      },
      "source": [
        "plt.plot(results_ppo)\n",
        "plt.show()"
      ],
      "execution_count": 20,
      "outputs": [
        {
          "output_type": "display_data",
          "data": {
            "text/plain": [
              "<Figure size 432x288 with 1 Axes>"
            ],
            "image/png": "[encoded data removed]"
          },
          "metadata": {
            "needs_background": "light"
          }
        }
      ]
    }
  ]
}